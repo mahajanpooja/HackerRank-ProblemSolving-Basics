{
 "cells": [
  {
   "cell_type": "code",
   "execution_count": 1,
   "id": "a5d555b3",
   "metadata": {},
   "outputs": [],
   "source": [
    "strings=['aba','baba','aba','xzxb']\n",
    "queries=['aba','xzxb','ab']"
   ]
  },
  {
   "cell_type": "code",
   "execution_count": 11,
   "id": "367ca216",
   "metadata": {},
   "outputs": [
    {
     "name": "stdout",
     "output_type": "stream",
     "text": [
      "[2, 1, 0]\n"
     ]
    }
   ],
   "source": [
    "result=[]\n",
    "for i in range(len(queries)):\n",
    "    count=0\n",
    "    for j in range(len(strings)):\n",
    "        if queries[i] == strings[j]:\n",
    "            count=count+1\n",
    "    \n",
    "    result.append(count)\n",
    "\n",
    "print(result)"
   ]
  }
 ],
 "metadata": {
  "kernelspec": {
   "display_name": "Python 3",
   "language": "python",
   "name": "python3"
  },
  "language_info": {
   "codemirror_mode": {
    "name": "ipython",
    "version": 3
   },
   "file_extension": ".py",
   "mimetype": "text/x-python",
   "name": "python",
   "nbconvert_exporter": "python",
   "pygments_lexer": "ipython3",
   "version": "3.8.8"
  }
 },
 "nbformat": 4,
 "nbformat_minor": 5
}
