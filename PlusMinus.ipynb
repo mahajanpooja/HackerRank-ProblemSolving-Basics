{
 "cells": [
  {
   "cell_type": "code",
   "execution_count": 20,
   "id": "1f5ef8db",
   "metadata": {},
   "outputs": [],
   "source": [
    "def plusMinus(arr):\n",
    "    # Write your code here\n",
    "    negative=0\n",
    "    positive=0\n",
    "    zero=0\n",
    "    total=len(arr)\n",
    "    for i in range(len(arr)):\n",
    "        if arr[i]<0:\n",
    "            negative=negative+1\n",
    "        elif arr[i]>0:\n",
    "            positive=positive+1\n",
    "        else:\n",
    "            zero=zero+1\n",
    "    \n",
    "    print(\"{:.6f}\".format(positive/total))\n",
    "    print(\"{:.6f}\".format(negative/total))\n",
    "    print(\"{:.6f}\".format(zero/total))\n",
    "    "
   ]
  },
  {
   "cell_type": "code",
   "execution_count": 12,
   "id": "4f233e44",
   "metadata": {},
   "outputs": [
    {
     "name": "stdout",
     "output_type": "stream",
     "text": [
      "6\n",
      "-4 3 -9 0 4 1\n"
     ]
    }
   ],
   "source": [
    "if __name__ == '__main__':\n",
    "    n = int(input().strip())\n",
    "\n",
    "    arr = list(map(int, input().rstrip().split()))\n",
    "    \n",
    "    plusMinus(arr)\n"
   ]
  },
  {
   "cell_type": "code",
   "execution_count": 21,
   "id": "95897b84",
   "metadata": {},
   "outputs": [
    {
     "name": "stdout",
     "output_type": "stream",
     "text": [
      "0.500000\n",
      "0.333333\n",
      "0.166667\n"
     ]
    }
   ],
   "source": []
  },
  {
   "cell_type": "code",
   "execution_count": null,
   "id": "f9ffb722",
   "metadata": {},
   "outputs": [],
   "source": []
  }
 ],
 "metadata": {
  "kernelspec": {
   "display_name": "Python 3",
   "language": "python",
   "name": "python3"
  },
  "language_info": {
   "codemirror_mode": {
    "name": "ipython",
    "version": 3
   },
   "file_extension": ".py",
   "mimetype": "text/x-python",
   "name": "python",
   "nbconvert_exporter": "python",
   "pygments_lexer": "ipython3",
   "version": "3.8.8"
  }
 },
 "nbformat": 4,
 "nbformat_minor": 5
}
