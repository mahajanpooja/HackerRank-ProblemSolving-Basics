{
 "cells": [
  {
   "cell_type": "code",
   "execution_count": 15,
   "id": "f60375e7",
   "metadata": {},
   "outputs": [],
   "source": [
    "#!/bin/python3\n",
    "\n",
    "import math\n",
    "import os\n",
    "import random\n",
    "import re\n",
    "import sys"
   ]
  },
  {
   "cell_type": "code",
   "execution_count": 23,
   "id": "29e3714b",
   "metadata": {},
   "outputs": [],
   "source": [
    "#\n",
    "# Complete the 'timeConversion' function below.\n",
    "#\n",
    "# The function is expected to return a STRING.\n",
    "# The function accepts STRING s as parameter.\n",
    "#\n",
    "\n",
    "def timeConversion(s):\n",
    "    # Write your code here\n",
    "    am_substring = 'AM'\n",
    "    pm_substring = 'PM'\n",
    "    \n",
    "    \n",
    "    if am_substring in s:\n",
    "        #convert 12th hour to zero\n",
    "        l=s.rsplit(\":\")\n",
    "        if l[0]=='12':\n",
    "            l[0]='00'\n",
    "        l1 = ':'.join(l).rstrip('AM')\n",
    "    \n",
    "    if pm_substring in s:\n",
    "        l=s.rsplit(\":\")\n",
    "        if l[0]!='12':\n",
    "            l[0]=str(int(l[0])+12)\n",
    "        l1 = ':'.join(l).rstrip('PM')\n",
    "    \n",
    "    return l1\n",
    "        "
   ]
  },
  {
   "cell_type": "code",
   "execution_count": 24,
   "id": "2117c1c9",
   "metadata": {},
   "outputs": [
    {
     "name": "stdout",
     "output_type": "stream",
     "text": [
      "12:45:54PM\n",
      "12:45:54\n"
     ]
    }
   ],
   "source": [
    "if __name__ == '__main__':\n",
    "\n",
    "    s = input()\n",
    "\n",
    "    result = timeConversion(s)\n",
    "    \n",
    "    print(result)"
   ]
  },
  {
   "cell_type": "code",
   "execution_count": null,
   "id": "216e869c",
   "metadata": {},
   "outputs": [],
   "source": []
  },
  {
   "cell_type": "code",
   "execution_count": null,
   "id": "15f9cc0e",
   "metadata": {},
   "outputs": [],
   "source": []
  }
 ],
 "metadata": {
  "kernelspec": {
   "display_name": "Python 3",
   "language": "python",
   "name": "python3"
  },
  "language_info": {
   "codemirror_mode": {
    "name": "ipython",
    "version": 3
   },
   "file_extension": ".py",
   "mimetype": "text/x-python",
   "name": "python",
   "nbconvert_exporter": "python",
   "pygments_lexer": "ipython3",
   "version": "3.8.8"
  }
 },
 "nbformat": 4,
 "nbformat_minor": 5
}
