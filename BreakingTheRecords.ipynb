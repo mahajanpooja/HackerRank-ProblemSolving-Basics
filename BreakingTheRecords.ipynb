{
 "cells": [
  {
   "cell_type": "code",
   "execution_count": 58,
   "id": "ae53ea13",
   "metadata": {},
   "outputs": [],
   "source": [
    "scores=[17,45,41,60,17,41,76,43,51,40,89,92,34,6,64,7,37,81,32,50]"
   ]
  },
  {
   "cell_type": "code",
   "execution_count": 61,
   "id": "9592fb2b",
   "metadata": {},
   "outputs": [
    {
     "name": "stdout",
     "output_type": "stream",
     "text": [
      "5 1\n"
     ]
    }
   ],
   "source": [
    "min_score = scores[0]\n",
    "max_score = scores[0]\n",
    "min_count=0\n",
    "max_count=0\n",
    "res=[]\n",
    "\n",
    "for i in range(1, len(scores)):\n",
    "    if scores[i]>scores[i-1]:\n",
    "        if max_score<scores[i]:\n",
    "            max_score = scores[i]\n",
    "            max_count=max_count+1\n",
    "            \n",
    "            \n",
    "    elif scores[i]<scores[i-1]:\n",
    "        if min_score>scores[i]:\n",
    "            min_score = scores[i]\n",
    "            min_count=min_count+1\n",
    "            \n",
    "\n",
    "res.append(max_count) \n",
    "res.append(min_count)\n",
    "print(*res, sep=\" \")"
   ]
  }
 ],
 "metadata": {
  "kernelspec": {
   "display_name": "Python 3",
   "language": "python",
   "name": "python3"
  },
  "language_info": {
   "codemirror_mode": {
    "name": "ipython",
    "version": 3
   },
   "file_extension": ".py",
   "mimetype": "text/x-python",
   "name": "python",
   "nbconvert_exporter": "python",
   "pygments_lexer": "ipython3",
   "version": "3.8.8"
  }
 },
 "nbformat": 4,
 "nbformat_minor": 5
}
