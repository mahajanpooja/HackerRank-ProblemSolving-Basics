{
 "cells": [
  {
   "cell_type": "code",
   "execution_count": 100,
   "id": "a452ca25",
   "metadata": {},
   "outputs": [
    {
     "name": "stdout",
     "output_type": "stream",
     "text": [
      "C;M;santa claus\n"
     ]
    }
   ],
   "source": [
    "s=input()\n",
    "l=s.rsplit(';')\n"
   ]
  },
  {
   "cell_type": "code",
   "execution_count": 101,
   "id": "7cabc13d",
   "metadata": {},
   "outputs": [
    {
     "name": "stdout",
     "output_type": "stream",
     "text": [
      "['C', 'M', 'santa claus']\n"
     ]
    }
   ],
   "source": [
    "print(l)"
   ]
  },
  {
   "cell_type": "code",
   "execution_count": 102,
   "id": "424b35b6",
   "metadata": {},
   "outputs": [
    {
     "name": "stdout",
     "output_type": "stream",
     "text": [
      "santaClaus()\n"
     ]
    }
   ],
   "source": [
    "import re\n",
    "u=[]\n",
    "if l[0]=='S':\n",
    "    #split it\n",
    "    if l[1]=='M' or l[1]=='C' or l[1]=='V':\n",
    "        t=re.findall('[a-zA-Z][^A-Z]*', l[2])\n",
    "        for i in range(len(t)):\n",
    "            t[i]=t[i].lower().rstrip('()')\n",
    "        \n",
    "        print(' '.join(t))\n",
    "        \n",
    "        \n",
    "if l[0]=='C':\n",
    "    #combine it\n",
    "        t=re.findall('[a-zA-Z][^A-Z]*', l[2])\n",
    "        for i in t:\n",
    "            u=i.split()\n",
    "        if l[1]=='M':\n",
    "            for x in range(1, len(u)):\n",
    "                u[x]=u[x].capitalize()\n",
    "            print(''.join(u)+'()')\n",
    "        if l[1]=='C':\n",
    "            for x in range(len(u)):\n",
    "                u[x]=u[x].capitalize()\n",
    "            print(''.join(u))\n",
    "        if l[1]=='V':\n",
    "            for x in range(1, len(u)):\n",
    "                u[x]=u[x].capitalize()\n",
    "            print(''.join(u))\n",
    "            "
   ]
  },
  {
   "cell_type": "code",
   "execution_count": 103,
   "id": "14bfccd2",
   "metadata": {},
   "outputs": [
    {
     "name": "stdout",
     "output_type": "stream",
     "text": [
      "S;V;iPad\n",
      "i pad\n",
      "C;M;mouse pad\n",
      "mousePad()\n",
      "C;C;code swarm\n",
      "CodeSwarm\n",
      "C;V;can of coke\n",
      "canOfCoke\n",
      "S;M;sweatTea()\n",
      "sweat tea\n"
     ]
    },
    {
     "ename": "KeyboardInterrupt",
     "evalue": "Interrupted by user",
     "output_type": "error",
     "traceback": [
      "\u001b[0;31m---------------------------------------------------------------------------\u001b[0m",
      "\u001b[0;31mKeyboardInterrupt\u001b[0m                         Traceback (most recent call last)",
      "\u001b[0;32m<ipython-input-103-f9a0738bb394>\u001b[0m in \u001b[0;36m<module>\u001b[0;34m\u001b[0m\n\u001b[1;32m     39\u001b[0m     \u001b[0;32mtry\u001b[0m\u001b[0;34m:\u001b[0m\u001b[0;34m\u001b[0m\u001b[0;34m\u001b[0m\u001b[0m\n\u001b[1;32m     40\u001b[0m         \u001b[0;32mwhile\u001b[0m\u001b[0;34m(\u001b[0m\u001b[0;32mTrue\u001b[0m\u001b[0;34m)\u001b[0m\u001b[0;34m:\u001b[0m\u001b[0;34m\u001b[0m\u001b[0;34m\u001b[0m\u001b[0m\n\u001b[0;32m---> 41\u001b[0;31m             \u001b[0ms\u001b[0m\u001b[0;34m=\u001b[0m\u001b[0minput\u001b[0m\u001b[0;34m(\u001b[0m\u001b[0;34m)\u001b[0m\u001b[0;34m\u001b[0m\u001b[0;34m\u001b[0m\u001b[0m\n\u001b[0m\u001b[1;32m     42\u001b[0m             \u001b[0mCamelCase\u001b[0m\u001b[0;34m(\u001b[0m\u001b[0ms\u001b[0m\u001b[0;34m)\u001b[0m\u001b[0;34m\u001b[0m\u001b[0;34m\u001b[0m\u001b[0m\n\u001b[1;32m     43\u001b[0m     \u001b[0;32mexcept\u001b[0m \u001b[0mEOFError\u001b[0m \u001b[0;32mas\u001b[0m \u001b[0me\u001b[0m\u001b[0;34m:\u001b[0m\u001b[0;34m\u001b[0m\u001b[0;34m\u001b[0m\u001b[0m\n",
      "\u001b[0;32m/opt/anaconda3/lib/python3.8/site-packages/ipykernel/kernelbase.py\u001b[0m in \u001b[0;36mraw_input\u001b[0;34m(self, prompt)\u001b[0m\n\u001b[1;32m    858\u001b[0m                 \u001b[0;34m\"raw_input was called, but this frontend does not support input requests.\"\u001b[0m\u001b[0;34m\u001b[0m\u001b[0;34m\u001b[0m\u001b[0m\n\u001b[1;32m    859\u001b[0m             )\n\u001b[0;32m--> 860\u001b[0;31m         return self._input_request(str(prompt),\n\u001b[0m\u001b[1;32m    861\u001b[0m             \u001b[0mself\u001b[0m\u001b[0;34m.\u001b[0m\u001b[0m_parent_ident\u001b[0m\u001b[0;34m,\u001b[0m\u001b[0;34m\u001b[0m\u001b[0;34m\u001b[0m\u001b[0m\n\u001b[1;32m    862\u001b[0m             \u001b[0mself\u001b[0m\u001b[0;34m.\u001b[0m\u001b[0m_parent_header\u001b[0m\u001b[0;34m,\u001b[0m\u001b[0;34m\u001b[0m\u001b[0;34m\u001b[0m\u001b[0m\n",
      "\u001b[0;32m/opt/anaconda3/lib/python3.8/site-packages/ipykernel/kernelbase.py\u001b[0m in \u001b[0;36m_input_request\u001b[0;34m(self, prompt, ident, parent, password)\u001b[0m\n\u001b[1;32m    902\u001b[0m             \u001b[0;32mexcept\u001b[0m \u001b[0mKeyboardInterrupt\u001b[0m\u001b[0;34m:\u001b[0m\u001b[0;34m\u001b[0m\u001b[0;34m\u001b[0m\u001b[0m\n\u001b[1;32m    903\u001b[0m                 \u001b[0;31m# re-raise KeyboardInterrupt, to truncate traceback\u001b[0m\u001b[0;34m\u001b[0m\u001b[0;34m\u001b[0m\u001b[0;34m\u001b[0m\u001b[0m\n\u001b[0;32m--> 904\u001b[0;31m                 \u001b[0;32mraise\u001b[0m \u001b[0mKeyboardInterrupt\u001b[0m\u001b[0;34m(\u001b[0m\u001b[0;34m\"Interrupted by user\"\u001b[0m\u001b[0;34m)\u001b[0m \u001b[0;32mfrom\u001b[0m \u001b[0;32mNone\u001b[0m\u001b[0;34m\u001b[0m\u001b[0;34m\u001b[0m\u001b[0m\n\u001b[0m\u001b[1;32m    905\u001b[0m             \u001b[0;32mexcept\u001b[0m \u001b[0mException\u001b[0m \u001b[0;32mas\u001b[0m \u001b[0me\u001b[0m\u001b[0;34m:\u001b[0m\u001b[0;34m\u001b[0m\u001b[0;34m\u001b[0m\u001b[0m\n\u001b[1;32m    906\u001b[0m                 \u001b[0mself\u001b[0m\u001b[0;34m.\u001b[0m\u001b[0mlog\u001b[0m\u001b[0;34m.\u001b[0m\u001b[0mwarning\u001b[0m\u001b[0;34m(\u001b[0m\u001b[0;34m\"Invalid Message:\"\u001b[0m\u001b[0;34m,\u001b[0m \u001b[0mexc_info\u001b[0m\u001b[0;34m=\u001b[0m\u001b[0;32mTrue\u001b[0m\u001b[0;34m)\u001b[0m\u001b[0;34m\u001b[0m\u001b[0;34m\u001b[0m\u001b[0m\n",
      "\u001b[0;31mKeyboardInterrupt\u001b[0m: Interrupted by user"
     ]
    }
   ],
   "source": [
    "# Enter your code here. Read input from STDIN. Print output to STDOUT\n",
    "#!/bin/python3\n",
    "import re\n",
    "\n",
    "def CamelCase(s):\n",
    "    l=s.rsplit(';')\n",
    "\n",
    "    \n",
    "    u=[]\n",
    "    if l[0]=='S':\n",
    "        #split it\n",
    "        if l[1]=='M' or l[1]=='C' or l[1]=='V':\n",
    "            t=re.findall('[a-zA-Z][^A-Z]*', l[2])\n",
    "            for i in range(len(t)):\n",
    "                t[i]=t[i].lower().rstrip('()')\n",
    "            \n",
    "            print(' '.join(t))\n",
    "            \n",
    "            \n",
    "    if l[0]=='C':\n",
    "        #combine it\n",
    "            t=re.findall('[a-zA-Z][^A-Z]*', l[2])\n",
    "            for i in t:\n",
    "                u=i.split()\n",
    "            if l[1]=='M':\n",
    "                for x in range(1, len(u)):\n",
    "                    u[x]=u[x].capitalize()\n",
    "                print(''.join(u)+'()')\n",
    "            if l[1]=='C':\n",
    "                for x in range(len(u)):\n",
    "                    u[x]=u[x].capitalize()\n",
    "                print(''.join(u))\n",
    "            if l[1]=='V':\n",
    "                for x in range(1, len(u)):\n",
    "                    u[x]=u[x].capitalize()\n",
    "                print(''.join(u))\n",
    "\n",
    "if __name__ == \"__main__\":\n",
    "    try:\n",
    "        while(True):\n",
    "            s=input()\n",
    "            CamelCase(s)\n",
    "    except EOFError as e:\n",
    "        quit()\n",
    "        \n",
    "        \n",
    "    \n"
   ]
  }
 ],
 "metadata": {
  "kernelspec": {
   "display_name": "Python 3",
   "language": "python",
   "name": "python3"
  }
 },
 "nbformat": 4,
 "nbformat_minor": 5
}
